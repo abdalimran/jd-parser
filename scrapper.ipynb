{
 "cells": [
  {
   "cell_type": "code",
   "execution_count": 1,
   "metadata": {},
   "outputs": [],
   "source": [
    "%load_ext autoreload\n",
    "%autoreload 2"
   ]
  },
  {
   "cell_type": "code",
   "execution_count": 2,
   "metadata": {},
   "outputs": [],
   "source": [
    "import os\n",
    "from selenium import webdriver\n",
    "from selenium.webdriver.chrome.service import Service\n",
    "import pandas as pd\n",
    "from linkedin_bot import *"
   ]
  },
  {
   "cell_type": "code",
   "execution_count": 3,
   "metadata": {},
   "outputs": [],
   "source": [
    "if not os.path.exists(\"data\"):\n",
    "    os.makedirs(\"data\")\n",
    "\n",
    "driver = webdriver.Chrome(service=Service(executable_path=\"./chromedriver\"))"
   ]
  },
  {
   "cell_type": "code",
   "execution_count": 4,
   "metadata": {},
   "outputs": [],
   "source": [
    "email = \"kater44555@elastit.com\"\n",
    "password = \"kater44555@elastit\"\n",
    "\n",
    "if os.path.exists(\"data/cookies.txt\"):\n",
    "    driver.get(\"https://www.linkedin.com/\")\n",
    "    driver = load_cookie(driver, \"data/cookies.txt\")\n",
    "    driver.get(\"https://www.linkedin.com/\")\n",
    "else:\n",
    "    driver = login(driver, email, password)\n",
    "    save_cookie(driver, \"data/cookies.txt\")"
   ]
  },
  {
   "cell_type": "code",
   "execution_count": 5,
   "metadata": {},
   "outputs": [],
   "source": [
    "driver.get(url='https://www.linkedin.com/jobs/search/?keywords=\"data scientist\"&location=Singapore&sortBy=DD')\n",
    "time.sleep(DELAY)\n",
    "\n",
    "# OR\n",
    "\n",
    "# driver = search_linkedin(driver, keywords='\"data scientist\"', location='Singapore')\n"
   ]
  },
  {
   "cell_type": "code",
   "execution_count": null,
   "metadata": {},
   "outputs": [],
   "source": [
    "job_data = pd.DataFrame(columns=['job_id', 'metadata', 'job_description'])\n",
    "job_data.to_csv(\"data/job_data.csv\", encoding='utf-8', index=False, mode=\"a\", header=True)\n",
    "\n",
    "for page in range(2, 24):\n",
    "    time.sleep(DELAY)\n",
    "    jobs = driver.find_elements(By.CLASS_NAME, \"occludable-update\")\n",
    "\n",
    "    for job in jobs:\n",
    "        driver = scroll_to(driver, job)\n",
    "        time.sleep(DELAY)\n",
    "        data = get_job_data(driver, job)\n",
    "        job_data = job_data.append(data, ignore_index=True)\n",
    "        job_data.iloc[[-1]].to_csv(\"data/job_data.csv\" , encoding='utf-8', index=False, mode=\"a\", header=False)\n",
    "        time.sleep(DELAY)\n",
    "    \n",
    "    driver.find_element(By.XPATH, f\"//button[@aria-label='Page {page}']\").click()\n",
    "    time.sleep(DELAY)"
   ]
  },
  {
   "cell_type": "code",
   "execution_count": 33,
   "metadata": {},
   "outputs": [],
   "source": [
    "# driver.close()"
   ]
  },
  {
   "cell_type": "code",
   "execution_count": 16,
   "metadata": {},
   "outputs": [],
   "source": [
    "job_data = job_data.drop_duplicates(subset=['job_id', 'job_description']).reset_index(drop=True)"
   ]
  },
  {
   "cell_type": "code",
   "execution_count": 20,
   "metadata": {},
   "outputs": [],
   "source": [
    "job_data['metadata_len'] = job_data.metadata.apply(lambda x: len(x))"
   ]
  },
  {
   "cell_type": "code",
   "execution_count": 30,
   "metadata": {},
   "outputs": [
    {
     "data": {
      "text/plain": [
       "array([list(['#SGUnitedTraineeships - Junior Data Scientist Traineeship', 'TOLUNA HONG KONG LIMITED SINGAPORE BRANCH', 'Singapore, Singapore', '6 days ago', 'Full-time · Entry level', 'See recent hiring trends for TOLUNA HONG KONG LIMITED SINGAPORE BRANCH. Try Premium for free', 'Apply', 'Save', 'Save #SGUnitedTraineeships - Junior Data Scientist Traineeship at TOLUNA HONG KONG LIMITED SINGAPORE BRANCH'])],\n",
       "      dtype=object)"
      ]
     },
     "execution_count": 30,
     "metadata": {},
     "output_type": "execute_result"
    }
   ],
   "source": [
    "job_data.query(\"metadata_len == 9\").sample(1).metadata.values"
   ]
  },
  {
   "cell_type": "code",
   "execution_count": 31,
   "metadata": {},
   "outputs": [
    {
     "data": {
      "text/plain": [
       "array([list(['Data Scientist', 'Toptal', 'Singapore, Singapore', 'Remote', '9 hours ago', '2 applicants', 'Contract · Mid-Senior level', '1,001-5,000 employees · Internet', '1 school alumni', 'See recent hiring trends for Toptal - Second Feed. Try Premium for free', 'Actively recruiting', 'Apply', 'Save', 'Save Data Scientist at Toptal'])],\n",
       "      dtype=object)"
      ]
     },
     "execution_count": 31,
     "metadata": {},
     "output_type": "execute_result"
    }
   ],
   "source": [
    "job_data.query(\"metadata_len == 14\").sample(1).metadata.values"
   ]
  },
  {
   "cell_type": "code",
   "execution_count": null,
   "metadata": {},
   "outputs": [],
   "source": []
  }
 ],
 "metadata": {
  "interpreter": {
   "hash": "4122db12a72953886ab6fbce8751935c0853679916f15b5a356c9e3a1a4f9178"
  },
  "kernelspec": {
   "display_name": "Python 3.8.12 64-bit ('scrapping': conda)",
   "language": "python",
   "name": "python3"
  },
  "language_info": {
   "codemirror_mode": {
    "name": "ipython",
    "version": 3
   },
   "file_extension": ".py",
   "mimetype": "text/x-python",
   "name": "python",
   "nbconvert_exporter": "python",
   "pygments_lexer": "ipython3",
   "version": "3.8.12"
  },
  "orig_nbformat": 4
 },
 "nbformat": 4,
 "nbformat_minor": 2
}
